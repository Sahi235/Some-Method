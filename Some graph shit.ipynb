{
 "cells": [
  {
   "cell_type": "code",
   "execution_count": 25,
   "id": "e7092371",
   "metadata": {},
   "outputs": [],
   "source": [
    "import numpy as np\n",
    "from matplotlib import pyplot as plt"
   ]
  },
  {
   "cell_type": "code",
   "execution_count": 3,
   "id": "0236bcbd",
   "metadata": {},
   "outputs": [],
   "source": [
    "inps = np.array([\n",
    "    [0,4,5,20],\n",
    "    [0,4,8,32],\n",
    "    [0,8,12,24],\n",
    "    [-6,-2,4,8]\n",
    "])"
   ]
  },
  {
   "cell_type": "code",
   "execution_count": 4,
   "id": "dfa3ac3b",
   "metadata": {},
   "outputs": [],
   "source": [
    "prob = np.array([1/2, 1/4, 1/5, 1/20])"
   ]
  },
  {
   "cell_type": "code",
   "execution_count": 6,
   "id": "086cfb6a",
   "metadata": {},
   "outputs": [],
   "source": [
    "mqs = inps @ prob"
   ]
  },
  {
   "cell_type": "code",
   "execution_count": 7,
   "id": "e4d044ca",
   "metadata": {},
   "outputs": [
    {
     "data": {
      "text/plain": [
       "array([ 3. ,  4.2,  5.6, -2.3])"
      ]
     },
     "execution_count": 7,
     "metadata": {},
     "output_type": "execute_result"
    }
   ],
   "source": [
    "mqs"
   ]
  },
  {
   "cell_type": "code",
   "execution_count": 10,
   "id": "a5a968e5",
   "metadata": {},
   "outputs": [],
   "source": [
    "squared_inps = np.power(inps, 2)"
   ]
  },
  {
   "cell_type": "code",
   "execution_count": 22,
   "id": "9e2b3c73",
   "metadata": {},
   "outputs": [
    {
     "data": {
      "text/plain": [
       "array([[   0,   16,   25,  400],\n",
       "       [   0,   16,   64, 1024],\n",
       "       [   0,   64,  144,  576],\n",
       "       [  36,    4,   16,   64]], dtype=int32)"
      ]
     },
     "execution_count": 22,
     "metadata": {},
     "output_type": "execute_result"
    }
   ],
   "source": [
    "squared_inps"
   ]
  },
  {
   "cell_type": "code",
   "execution_count": 14,
   "id": "649d389e",
   "metadata": {},
   "outputs": [],
   "source": [
    "dqs = squared_inps @ prob"
   ]
  },
  {
   "cell_type": "code",
   "execution_count": 15,
   "id": "2ef4822c",
   "metadata": {},
   "outputs": [
    {
     "data": {
      "text/plain": [
       "array([29. , 68. , 73.6, 25.4])"
      ]
     },
     "execution_count": 15,
     "metadata": {},
     "output_type": "execute_result"
    }
   ],
   "source": [
    "dqs"
   ]
  },
  {
   "cell_type": "code",
   "execution_count": 18,
   "id": "b686a6a8",
   "metadata": {},
   "outputs": [],
   "source": [
    "res = dqs - np.power(mqs, 2)"
   ]
  },
  {
   "cell_type": "code",
   "execution_count": 19,
   "id": "ac7ed52f",
   "metadata": {},
   "outputs": [
    {
     "data": {
      "text/plain": [
       "array([20.  , 50.36, 42.24, 20.11])"
      ]
     },
     "execution_count": 19,
     "metadata": {},
     "output_type": "execute_result"
    }
   ],
   "source": [
    "res"
   ]
  },
  {
   "cell_type": "code",
   "execution_count": 26,
   "id": "5e670cec",
   "metadata": {},
   "outputs": [],
   "source": [
    "bs = np.round(np.sqrt(res), 3)"
   ]
  },
  {
   "cell_type": "code",
   "execution_count": 27,
   "id": "51955158",
   "metadata": {},
   "outputs": [
    {
     "data": {
      "text/plain": [
       "array([4.472, 7.096, 6.499, 4.484])"
      ]
     },
     "execution_count": 27,
     "metadata": {},
     "output_type": "execute_result"
    }
   ],
   "source": [
    "bs"
   ]
  },
  {
   "cell_type": "code",
   "execution_count": 42,
   "id": "22f17a1b",
   "metadata": {
    "scrolled": true
   },
   "outputs": [
    {
     "data": {
      "image/png": "[encoded data removed]",
      "text/plain": [
       "<Figure size 576x288 with 1 Axes>"
      ]
     },
     "metadata": {
      "needs_background": "light"
     },
     "output_type": "display_data"
    }
   ],
   "source": [
    "plt.figure(figsize=(8,4))\n",
    "plt.title(\"Salam Muellim?\")\n",
    "plt.ylabel('Salam')\n",
    "plt.xlabel(\"Aleykum\")\n",
    "plt.scatter(x=mqs, y=bs, color='red')\n",
    "pass"
   ]
  },
  {
   "cell_type": "code",
   "execution_count": 31,
   "id": "1bb02cee",
   "metadata": {},
   "outputs": [
    {
     "data": {
      "text/plain": [
       "array([ 3. ,  4.2,  5.6, -2.3])"
      ]
     },
     "execution_count": 31,
     "metadata": {},
     "output_type": "execute_result"
    }
   ],
   "source": [
    "mqs"
   ]
  },
  {
   "cell_type": "code",
   "execution_count": 33,
   "id": "63533da4",
   "metadata": {},
   "outputs": [
    {
     "data": {
      "image/png": "[encoded data removed]",
      "text/plain": [
       "<Figure size 432x288 with 1 Axes>"
      ]
     },
     "metadata": {
      "needs_background": "light"
     },
     "output_type": "display_data"
    }
   ],
   "source": [
    "plt.scatter(x=res, y=bs)\n",
    "pass"
   ]
  },
  {
   "cell_type": "code",
   "execution_count": null,
   "id": "626cf387",
   "metadata": {},
   "outputs": [],
   "source": []
  }
 ],
 "metadata": {
  "kernelspec": {
   "display_name": "Python 3 (ipykernel)",
   "language": "python",
   "name": "python3"
  },
  "language_info": {
   "codemirror_mode": {
    "name": "ipython",
    "version": 3
   },
   "file_extension": ".py",
   "mimetype": "text/x-python",
   "name": "python",
   "nbconvert_exporter": "python",
   "pygments_lexer": "ipython3",
   "version": "3.9.12"
  }
 },
 "nbformat": 4,
 "nbformat_minor": 5
}
