{
 "cells": [
  {
   "cell_type": "code",
   "execution_count": 21,
   "id": "e7092371",
   "metadata": {},
   "outputs": [],
   "source": [
    "import numpy as np\n",
    "from matplotlib import pyplot as plt"
   ]
  },
  {
   "cell_type": "code",
   "execution_count": 22,
   "id": "285ec443",
   "metadata": {},
   "outputs": [],
   "source": [
    "def calculate_mq(inps, probs):\n",
    "    \n",
    "    if inps.shape[1] != probs.shape[0]:\n",
    "        raise Exception('Entered inputs size and probability size does not match')\n",
    "    \n",
    "    return np.dot(inps, probs)"
   ]
  },
  {
   "cell_type": "code",
   "execution_count": 60,
   "id": "949bd085",
   "metadata": {},
   "outputs": [],
   "source": [
    "def calculate_mq_differences(mq2, mq1):\n",
    "    \n",
    "    if mq1.shape != mq2.shape:\n",
    "        raise Exception('Entered shapes size are not same')\n",
    "    \n",
    "    return mq2 - np.power(mq1, 2)"
   ]
  },
  {
   "cell_type": "code",
   "execution_count": 61,
   "id": "addb0132",
   "metadata": {},
   "outputs": [],
   "source": [
    "def calculate_siqma(differences):\n",
    "    return np.round(np.sqrt(differences), 3)"
   ]
  },
  {
   "cell_type": "code",
   "execution_count": 70,
   "id": "a61c1891",
   "metadata": {},
   "outputs": [],
   "source": [
    "def plot_points(mq1, sigmas):\n",
    "    if mq1.shape[0] != sigmas.shape[0]:\n",
    "        raise Exception(\"Shapes are not the same\")\n",
    "    plt.scatter(x = mq1, y=sigmas, color='red')"
   ]
  },
  {
   "cell_type": "code",
   "execution_count": 68,
   "id": "2ee64b0d",
   "metadata": {},
   "outputs": [],
   "source": [
    "def calculate(inputs, probabilities):\n",
    "    mq1 = calculate_mq(inputs, probabilities)\n",
    "    print(f'MQi = {mq1}')\n",
    "    squared_inps = np.power(inputs, 2)\n",
    "    mq2 = calculate_mq(squared_inps, probabilities)\n",
    "    print(f'M^2Qi = {mq2}')\n",
    "    difference = calculate_mq_differences(mq2, mq1)\n",
    "    print(f'Differences are {difference}')\n",
    "    sigmas = calculate_siqma(difference)\n",
    "    print(f'Sigmas are {sigmas}')\n",
    "    plot_points(mq1, sigmas)"
   ]
  },
  {
   "cell_type": "code",
   "execution_count": 46,
   "id": "0236bcbd",
   "metadata": {},
   "outputs": [],
   "source": [
    "inps = np.array([\n",
    "    [0,4,5,20],\n",
    "    [0,4,8,32],\n",
    "    [0,8,12,24],\n",
    "    [-6,-2,4,8]\n",
    "])\n",
    "probabilities = np.array([1/2, 1/4, 1/5, 1/20])"
   ]
  },
  {
   "cell_type": "code",
   "execution_count": 71,
   "id": "f9ace510",
   "metadata": {},
   "outputs": [
    {
     "name": "stdout",
     "output_type": "stream",
     "text": [
      "MQi = [ 3.   4.2  5.6 -2.3]\n",
      "M^2Qi = [29.  68.  73.6 25.4]\n",
      "Differences are [20.   50.36 42.24 20.11]\n",
      "Sigmas are [4.472 7.096 6.499 4.484]\n"
     ]
    },
    {
     "data": {
      "image/png": "[encoded data removed]",
      "text/plain": [
       "<Figure size 432x288 with 1 Axes>"
      ]
     },
     "metadata": {
      "needs_background": "light"
     },
     "output_type": "display_data"
    }
   ],
   "source": [
    "calculate(inps, probabilities)"
   ]
  }
 ],
 "metadata": {
  "kernelspec": {
   "display_name": "Python 3 (ipykernel)",
   "language": "python",
   "name": "python3"
  },
  "language_info": {
   "codemirror_mode": {
    "name": "ipython",
    "version": 3
   },
   "file_extension": ".py",
   "mimetype": "text/x-python",
   "name": "python",
   "nbconvert_exporter": "python",
   "pygments_lexer": "ipython3",
   "version": "3.9.12"
  }
 },
 "nbformat": 4,
 "nbformat_minor": 5
}
